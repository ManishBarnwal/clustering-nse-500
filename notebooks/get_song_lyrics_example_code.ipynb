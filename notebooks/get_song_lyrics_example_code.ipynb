{
 "cells": [
  {
   "cell_type": "code",
   "execution_count": 51,
   "metadata": {
    "ExecuteTime": {
     "end_time": "2019-10-03T20:09:51.985740Z",
     "start_time": "2019-10-03T20:09:51.983007Z"
    }
   },
   "outputs": [],
   "source": [
    "import requests as rq\n",
    "from bs4 import BeautifulSoup as bs"
   ]
  },
  {
   "cell_type": "code",
   "execution_count": 52,
   "metadata": {
    "ExecuteTime": {
     "end_time": "2019-10-03T20:09:57.101975Z",
     "start_time": "2019-10-03T20:09:52.721755Z"
    }
   },
   "outputs": [
    {
     "name": "stdout",
     "output_type": "stream",
     "text": [
      "Enter song: yellow\n"
     ]
    }
   ],
   "source": [
    "song = input(\"Enter song: \")"
   ]
  },
  {
   "cell_type": "code",
   "execution_count": 53,
   "metadata": {
    "ExecuteTime": {
     "end_time": "2019-10-03T20:09:58.750869Z",
     "start_time": "2019-10-03T20:09:58.746453Z"
    }
   },
   "outputs": [
    {
     "data": {
      "text/plain": [
       "{'q': 'yellow'}"
      ]
     },
     "execution_count": 53,
     "metadata": {},
     "output_type": "execute_result"
    }
   ],
   "source": [
    "# Making the parameters for the url\n",
    "url_params = {\"q\": song.lower()}\n",
    "url_params"
   ]
  },
  {
   "cell_type": "code",
   "execution_count": 54,
   "metadata": {
    "ExecuteTime": {
     "end_time": "2019-10-03T20:10:00.633027Z",
     "start_time": "2019-10-03T20:09:59.690005Z"
    }
   },
   "outputs": [],
   "source": [
    "# Making a get request to the azlyric's search ulr + passing the above parameters to it\n",
    "azlyrics_search = rq.get(\"https://search.azlyrics.com/search.php\", params=url_params)"
   ]
  },
  {
   "cell_type": "code",
   "execution_count": 55,
   "metadata": {
    "ExecuteTime": {
     "end_time": "2019-10-03T20:10:02.111140Z",
     "start_time": "2019-10-03T20:10:02.106901Z"
    }
   },
   "outputs": [
    {
     "data": {
      "text/plain": [
       "<Response [200]>"
      ]
     },
     "execution_count": 55,
     "metadata": {},
     "output_type": "execute_result"
    }
   ],
   "source": [
    "azlyrics_search"
   ]
  },
  {
   "cell_type": "code",
   "execution_count": 56,
   "metadata": {
    "ExecuteTime": {
     "end_time": "2019-10-03T20:10:04.542172Z",
     "start_time": "2019-10-03T20:10:04.529496Z"
    }
   },
   "outputs": [],
   "source": [
    "soup_1 = bs(azlyrics_search.text, \"lxml\")"
   ]
  },
  {
   "cell_type": "code",
   "execution_count": 57,
   "metadata": {
    "ExecuteTime": {
     "end_time": "2019-10-03T20:10:08.917351Z",
     "start_time": "2019-10-03T20:10:08.860768Z"
    }
   },
   "outputs": [
    {
     "data": {
      "text/plain": [
       "<!DOCTYPE html>\n",
       "<html lang=\"en\">\n",
       "<head>\n",
       "<meta charset=\"utf-8\"/>\n",
       "<meta content=\"IE=edge\" http-equiv=\"X-UA-Compatible\"/>\n",
       "<meta content=\"width=device-width, initial-scale=1\" name=\"viewport\"/>\n",
       "<meta content=\"noarchive\" name=\"robots\"/>\n",
       "<meta content=\"noindex\" name=\"robots\"/>\n",
       "<title>AZLyrics - Search: yellow</title>\n",
       "<link href=\"https://maxcdn.bootstrapcdn.com/bootstrap/3.3.4/css/bootstrap.min.css\" rel=\"stylesheet\"/>\n",
       "<link href=\"//www.azlyrics.com/bsaz.css\" rel=\"stylesheet\"/>\n",
       "<!-- HTML5 shim and Respond.js for IE8 support of HTML5 elements and media queries -->\n",
       "<!--[if lt IE 9]>\n",
       "    <script src=\"https://oss.maxcdn.com/html5shiv/3.7.2/html5shiv.min.js\"></script>\n",
       "    <script src=\"https://oss.maxcdn.com/respond/1.4.2/respond.min.js\"></script>\n",
       "    <![endif]-->\n",
       "<link href=\"//www.azlyrics.com/local/cookieconsent/cookieconsent.min.css\" rel=\"stylesheet\"/>\n",
       "<script src=\"//www.azlyrics.com/local/cookieconsent/cookieconsent.min.js\"></script>\n",
       "<link href=\"//www.azlyrics.com/local/easyautocomplete/easy-autocomplete.min.css\" rel=\"stylesheet\"/>\n",
       "<link href=\"//www.azlyrics.com/local/easyautocomplete/easy-autocomplete.themes.min.css\" rel=\"stylesheet\"/>\n",
       "</head>\n",
       "<body class=\"margin50\">\n",
       "<nav class=\"navbar navbar-default navbar-fixed-top\">\n",
       "<div class=\"container\">\n",
       "<div class=\"navbar-header\">\n",
       "<button class=\"navbar-toggle collapsed\" data-target=\"#search-collapse\" data-toggle=\"collapse\" type=\"button\">\n",
       "<span class=\"glyphicon glyphicon-search\"></span>\n",
       "</button>\n",
       "<button class=\"navbar-toggle collapsed\" data-target=\"#artists-collapse\" data-toggle=\"collapse\" type=\"button\">\n",
       "<span class=\"glyphicon glyphicon-th-list\"></span>\n",
       "</button>\n",
       "<a class=\"navbar-brand\" href=\"//www.azlyrics.com\"><img alt=\"AZLyrics.com\" class=\"pull-left\" src=\"//images.azlyrics.com/az_logo_tr.png\" style=\"max-height:40px; margin-top:-10px;\"/></a>\n",
       "</div>\n",
       "<ul class=\"collapse navbar-collapse nav navbar-nav\" id=\"artists-collapse\">\n",
       "<li>\n",
       "<div class=\"btn-group text-center\" role=\"group\">\n",
       "<a class=\"btn btn-menu\" href=\"//www.azlyrics.com/a.html\">A</a>\n",
       "<a class=\"btn btn-menu\" href=\"//www.azlyrics.com/b.html\">B</a>\n",
       "<a class=\"btn btn-menu\" href=\"//www.azlyrics.com/c.html\">C</a>\n",
       "<a class=\"btn btn-menu\" href=\"//www.azlyrics.com/d.html\">D</a>\n",
       "<a class=\"btn btn-menu\" href=\"//www.azlyrics.com/e.html\">E</a>\n",
       "<a class=\"btn btn-menu\" href=\"//www.azlyrics.com/f.html\">F</a>\n",
       "<a class=\"btn btn-menu\" href=\"//www.azlyrics.com/g.html\">G</a>\n",
       "<a class=\"btn btn-menu\" href=\"//www.azlyrics.com/h.html\">H</a>\n",
       "<a class=\"btn btn-menu\" href=\"//www.azlyrics.com/i.html\">I</a>\n",
       "<a class=\"btn btn-menu\" href=\"//www.azlyrics.com/j.html\">J</a>\n",
       "<a class=\"btn btn-menu\" href=\"//www.azlyrics.com/k.html\">K</a>\n",
       "<a class=\"btn btn-menu\" href=\"//www.azlyrics.com/l.html\">L</a>\n",
       "<a class=\"btn btn-menu\" href=\"//www.azlyrics.com/m.html\">M</a>\n",
       "<a class=\"btn btn-menu\" href=\"//www.azlyrics.com/n.html\">N</a>\n",
       "<a class=\"btn btn-menu\" href=\"//www.azlyrics.com/o.html\">O</a>\n",
       "<a class=\"btn btn-menu\" href=\"//www.azlyrics.com/p.html\">P</a>\n",
       "<a class=\"btn btn-menu\" href=\"//www.azlyrics.com/q.html\">Q</a>\n",
       "<a class=\"btn btn-menu\" href=\"//www.azlyrics.com/r.html\">R</a>\n",
       "<a class=\"btn btn-menu\" href=\"//www.azlyrics.com/s.html\">S</a>\n",
       "<a class=\"btn btn-menu\" href=\"//www.azlyrics.com/t.html\">T</a>\n",
       "<a class=\"btn btn-menu\" href=\"//www.azlyrics.com/u.html\">U</a>\n",
       "<a class=\"btn btn-menu\" href=\"//www.azlyrics.com/v.html\">V</a>\n",
       "<a class=\"btn btn-menu\" href=\"//www.azlyrics.com/w.html\">W</a>\n",
       "<a class=\"btn btn-menu\" href=\"//www.azlyrics.com/x.html\">X</a>\n",
       "<a class=\"btn btn-menu\" href=\"//www.azlyrics.com/y.html\">Y</a>\n",
       "<a class=\"btn btn-menu\" href=\"//www.azlyrics.com/z.html\">Z</a>\n",
       "<a class=\"btn btn-menu\" href=\"//www.azlyrics.com/19.html\">#</a>\n",
       "</div>\n",
       "</li>\n",
       "</ul>\n",
       "<div class=\"collapse navbar-collapse\" id=\"search-collapse\">\n",
       "<form action=\"\" class=\"navbar-form navbar-right search\" method=\"get\" role=\"search\">\n",
       "<div class=\"input-group\">\n",
       "<input class=\"form-control\" id=\"q\" name=\"q\" placeholder=\"\" type=\"text\" value=\"yellow\"/>\n",
       "<span class=\"input-group-btn\">\n",
       "<button class=\"btn btn-primary\" type=\"submit\"><span class=\"glyphicon glyphicon-search\"></span> Search</button>\n",
       "</span>\n",
       "</div>\n",
       "</form>\n",
       "</div><!-- /.navbar-collapse -->\n",
       "</div><!-- /.container -->\n",
       "</nav>\n",
       "<!-- top ban -->\n",
       "<div class=\"lboard-wrap\">\n",
       "<div class=\"container\">\n",
       "<div class=\"row\">\n",
       "<div class=\"col-xs-12 top-ad text-center\">\n",
       "<span id=\"cf_banner_top_nofc\"></span>\n",
       "</div>\n",
       "</div>\n",
       "</div>\n",
       "</div>\n",
       "<div class=\"container main-page\">\n",
       "<div class=\"row\">\n",
       "<div class=\"col-xs-12 col-sm-10 col-sm-offset-1 col-md-8 col-md-offset-2 text-center\" style=\"padding-top: 20px;\">\n",
       "<div class=\"panel\">\n",
       "<div class=\"panel-heading\"><b>Artist results:</b><br/><small>[1-2 of 2 total <span class=\"text-lowercase\">Artists</span> found]</small></div>\n",
       "<table class=\"table table-condensed\">\n",
       "<tr><td class=\"text-left visitedlyr\">\n",
       "                    1. <a href=\"https://www.azlyrics.com/y/yellowclaw.html\" target=\"_blank\"><b>Yellow Claw</b></a>\n",
       "</td></tr>\n",
       "<tr><td class=\"text-left visitedlyr\">\n",
       "                    2. <a href=\"https://www.azlyrics.com/y/yellowdays.html\" target=\"_blank\"><b>Yellow Days</b></a>\n",
       "</td></tr>\n",
       "</table>\n",
       "</div>\n",
       "<div class=\"panel\">\n",
       "<div class=\"panel-heading\"><b>Album results:</b><br/><small>[1-5 of 28 total <span class=\"text-lowercase\">Albums</span> found]</small></div>\n",
       "<table class=\"table table-condensed\">\n",
       "<tr><td class=\"text-left visitedlyr\">\n",
       "                    1. <a href=\"https://www.azlyrics.com/g/gangoffour.html#36740\" target=\"_blank\"><b>Gang Of Four - Yellow</b></a>\n",
       "</td></tr>\n",
       "<tr><td class=\"text-left visitedlyr\">\n",
       "                    2. <a href=\"https://www.azlyrics.com/c/cammeekins.html#61553\" target=\"_blank\"><b>Cam Meekins - Yellow</b></a>\n",
       "</td></tr>\n",
       "<tr><td class=\"text-left visitedlyr\">\n",
       "                    3. <a href=\"https://www.azlyrics.com/b/beatles.html#10995\" target=\"_blank\"><b>The Beatles - Yellow Submarine</b></a>\n",
       "</td></tr>\n",
       "<tr><td class=\"text-left visitedlyr\">\n",
       "                    4. <a href=\"https://www.azlyrics.com/d/donwilliams.html#14802\" target=\"_blank\"><b>Don Williams - Yellow Moon</b></a>\n",
       "</td></tr>\n",
       "<tr><td class=\"text-left visitedlyr\">\n",
       "                    5. <a href=\"https://www.azlyrics.com/g/grizzlybear.html#24719\" target=\"_blank\"><b>Grizzly Bear - Yellow House</b></a>\n",
       "</td></tr>\n",
       "<tr><td><a class=\"btn btn-share\" href=\"?q=yellow&amp;w=albums&amp;p=1\">More Album Results</a></td></tr>\n",
       "</table>\n",
       "</div>\n",
       "<div class=\"panel\">\n",
       "<div class=\"panel-heading\"><b>Song results:</b><br/><small>[1-5 of 1000 total <span class=\"text-lowercase\">Songs</span> found]</small></div>\n",
       "<table class=\"table table-condensed\">\n",
       "<tr><td class=\"text-left visitedlyr\">\n",
       "                    1. <a href=\"https://www.azlyrics.com/lyrics/coldplay/yellow.html\" target=\"_blank\"><b>Yellow</b></a>  by <b>Coldplay</b><br/>\n",
       "<small> And everything you do Yeah, they were all <strong>yellow</strong> I came along I wrote a song for you And all the things you do And it was called \"<strong>Yellow</strong>\" So then I took my turn Oh what a thing to have done And it was all <strong>yellow</strong> Your skin Oh yeah your skin and bones...</small>\n",
       "</td></tr>\n",
       "<tr><td class=\"text-left visitedlyr\">\n",
       "                    2. <a href=\"https://www.azlyrics.com/lyrics/jandean/yellowballoon.html\" target=\"_blank\"><b>Yellow Balloon</b></a>  by <b>Jan &amp; Dean</b><br/>\n",
       "<small>tle brighter Like a <strong>Yellow</strong> Balloon On a rainy afternoon And love's a <strong>Yellow</strong> Balloon (Ba...) It's like the <strong>Yellow</strong> Balloon On a rainy afternoon And love's a <strong>Yellow</strong> Balloon Love's a <strong>Yellow</strong> Balloon It's like the <strong>Yellow</strong> Balloon And love's a <strong>Yellow</strong> Balloon...</small>\n",
       "</td></tr>\n",
       "<tr><td class=\"text-left visitedlyr\">\n",
       "                    3. <a href=\"https://www.azlyrics.com/lyrics/beatles/yellowsubmarine.html\" target=\"_blank\"><b>Yellow Submarine</b></a>  by <b>The Beatles</b><br/>\n",
       "<small>reen (sea of green) In our <strong>yellow</strong> (in our <strong>yellow</strong>) submarine (submarine, ah-ha) We all live in a <strong>yellow</strong> submarine <strong>Yellow</strong> submarine, <strong>yellow</strong> submarine We all live in a <strong>yellow</strong> submarine <strong>Yellow</strong> submarine, <strong>yellow</strong> submarine We all live in a <strong>yellow</strong> submarine <strong>Yellow</strong> submarine, <strong>yellow</strong> submarine We al...</small>\n",
       "</td></tr>\n",
       "<tr><td class=\"text-left visitedlyr\">\n",
       "                    4. <a href=\"https://www.azlyrics.com/lyrics/wizkhalifa/blackandyellow.html\" target=\"_blank\"><b>Black And Yellow</b></a>  by <b>Wiz Khalifa</b><br/>\n",
       "<small>when you see me you know everything Black and <strong>yellow</strong>, black and <strong>yellow</strong> Black and <strong>yellow</strong>, black and <strong>yellow</strong> I put it down from the whip to my diamonds, I'm in Black and <strong>yellow</strong>, black and <strong>yellow</strong> Black and <strong>yellow</strong>, black and <strong>yellow</strong> Uh, black stripe, yello...</small>\n",
       "</td></tr>\n",
       "<tr><td class=\"text-left visitedlyr\">\n",
       "                    5. <a href=\"https://www.azlyrics.com/lyrics/wizkhalifa/blackandyellowgmix.html\" target=\"_blank\"><b>Black And Yellow (G-Mix)</b></a>  by <b>Wiz Khalifa</b><br/>\n",
       "<small>he lot, that's stunting Repping my town when you see me you know everything Black and <strong>yellow</strong>, black and <strong>yellow</strong>, black and <strong>yellow</strong>, black and <strong>yellow</strong> I put it down from the whip to my diamonds, I'm in Black and <strong>yellow</strong>, black and <strong>yellow</strong>, black and <strong>yellow</strong>,...</small>\n",
       "</td></tr>\n",
       "<tr><td><a class=\"btn btn-share\" href=\"?q=yellow&amp;w=songs&amp;p=1\">More Song Results</a></td></tr>\n",
       "</table>\n",
       "</div>\n",
       "<form action=\"\" class=\"search\" method=\"get\" role=\"search\">\n",
       "<div class=\"input-group\" style=\"margin-bottom:15px\">\n",
       "<input class=\"form-control\" name=\"q\" placeholder=\"\" type=\"text\" value=\"yellow\"/>\n",
       "<span class=\"input-group-btn\">\n",
       "<button class=\"btn btn-primary\" type=\"submit\"><span class=\"glyphicon glyphicon-search\"></span> Search</button>\n",
       "</span>\n",
       "</div>\n",
       "</form>\n",
       "</div></div></div>\n",
       "<!-- nav bottom -->\n",
       "<nav class=\"navbar navbar-default navbar-bottom\">\n",
       "<div class=\"container text-center\">\n",
       "<ul class=\"nav navbar-nav navbar-center\">\n",
       "<li><a href=\"//www.azlyrics.com/add.php\">Submit Lyrics</a></li>\n",
       "<li><a href=\"//www.stlyrics.com\">Soundtracks</a></li>\n",
       "<li><a href=\"//www.facebook.com/pages/AZLyricscom/154139197951223\">Facebook</a></li>\n",
       "<li><a href=\"//www.azlyrics.com/contact.html\">Contact Us</a></li>\n",
       "</ul>\n",
       "</div>\n",
       "</nav>\n",
       "<!-- bot ban -->\n",
       "<div class=\"lboard-wrap\">\n",
       "<div class=\"container\">\n",
       "<div class=\"row\">\n",
       "<div class=\"col-xs-12 top-ad text-center\">\n",
       "<span id=\"cf_banner_bottom\"></span>\n",
       "</div>\n",
       "</div>\n",
       "</div>\n",
       "</div>\n",
       "<!-- footer -->\n",
       "<nav class=\"navbar navbar-footer\">\n",
       "<div class=\"container text-center\">\n",
       "<ul class=\"nav navbar-nav navbar-center\">\n",
       "<li><a href=\"//www.azlyrics.com/adv.html\">Advertise Here</a></li>\n",
       "<li><a href=\"//www.azlyrics.com/privacy.html\">Privacy Policy</a></li>\n",
       "<li><a href=\"//www.azlyrics.com/cookie.html\">Cookie Policy</a></li>\n",
       "<li><a href=\"//www.azlyrics.com/copyright.html\">DMCA Policy</a></li>\n",
       "</ul>\n",
       "</div>\n",
       "</nav>\n",
       "<div class=\"footer-wrap\">\n",
       "<div class=\"container\">\n",
       "<small>\n",
       "            All lyrics are property and copyright of their owners. All lyrics provided for educational purposes and personal use only.<br/>\n",
       "<script type=\"text/javascript\">\n",
       "                curdate=new Date();\n",
       "                document.write(\"<strong>Copyright &copy; 2000-\"+curdate.getFullYear()+\" AZLyrics.com<\\/strong>\");\n",
       "            </script>\n",
       "</small>\n",
       "</div>\n",
       "</div>\n",
       "<script>\n",
       "    cf_page_artist = \"\";\n",
       "    cf_page_song = \"\";\n",
       "    cf_page_genre = \"\";\n",
       "</script>\n",
       "<script src=\"//cdn.clickfuse.com/publishers/azlyrics/single.min.js\"></script>\n",
       "<script type=\"text/javascript\">\n",
       "\n",
       "    var _gaq = _gaq || [];\n",
       "    _gaq.push(['_setAccount', 'UA-4309237-1']);\n",
       "    _gaq.push(['_setDomainName', 'azlyrics.com']);\n",
       "    _gaq.push(['_trackPageview']);\n",
       "\n",
       "    (function() {\n",
       "        var ga = document.createElement('script'); ga.type = 'text/javascript'; ga.async = true;\n",
       "        ga.src = ('https:' == document.location.protocol ? 'https://ssl' : 'http://www') + '.google-analytics.com/ga.js';\n",
       "        var s = document.getElementsByTagName('script')[0]; s.parentNode.insertBefore(ga, s);\n",
       "    })();\n",
       "\n",
       "</script>\n",
       "<div class=\"hidden\" id=\"CssFailCheck\" style=\"height:1px;\"></div>\n",
       "<script src=\"https://ajax.googleapis.com/ajax/libs/jquery/1.11.2/jquery.min.js\"></script>\n",
       "<script>window.jQuery || document.write('<script src=\"//images.azlyrics.com/local/jquery.min.js\"><\\/script>')</script>\n",
       "<script>\n",
       "    $(function () {\n",
       "        if ($('#CssFailCheck').is(':visible') === true) {\n",
       "            $('<link rel=\"stylesheet\" type=\"text/css\" href=\"/bs/css/bootstrap.min.css\"><link rel=\"stylesheet\" href=\"//www.azlyrics.com/bsaz.css\">').appendTo('head');\n",
       "        }\n",
       "    });\n",
       "</script>\n",
       "<script src=\"//images.azlyrics.com/collapse.js\"></script>\n",
       "<script src=\"//www.azlyrics.com/geo.js\"></script>\n",
       "<script src=\"//www.azlyrics.com/local/easyautocomplete/jquery.easy-autocomplete.js\"></script>\n",
       "</body>\n",
       "</html>"
      ]
     },
     "execution_count": 57,
     "metadata": {},
     "output_type": "execute_result"
    }
   ],
   "source": [
    "soup_1"
   ]
  },
  {
   "cell_type": "code",
   "execution_count": 58,
   "metadata": {
    "ExecuteTime": {
     "end_time": "2019-10-03T20:13:48.619295Z",
     "start_time": "2019-10-03T20:13:48.612861Z"
    }
   },
   "outputs": [],
   "source": [
    "# Get a list with all the results for the specific search\n",
    "search_results = soup_1.find_all(\"table\", {\"class\": \"table table-condensed\"})[-1].find_all(\"td\", {\"class\": \"text-left visitedlyr\"})"
   ]
  },
  {
   "cell_type": "code",
   "execution_count": 59,
   "metadata": {
    "ExecuteTime": {
     "end_time": "2019-10-03T20:13:57.747001Z",
     "start_time": "2019-10-03T20:13:57.741423Z"
    }
   },
   "outputs": [
    {
     "data": {
      "text/plain": [
       "[<td class=\"text-left visitedlyr\">\n",
       "                     1. <a href=\"https://www.azlyrics.com/lyrics/coldplay/yellow.html\" target=\"_blank\"><b>Yellow</b></a>  by <b>Coldplay</b><br/>\n",
       " <small> And everything you do Yeah, they were all <strong>yellow</strong> I came along I wrote a song for you And all the things you do And it was called \"<strong>Yellow</strong>\" So then I took my turn Oh what a thing to have done And it was all <strong>yellow</strong> Your skin Oh yeah your skin and bones...</small>\n",
       " </td>, <td class=\"text-left visitedlyr\">\n",
       "                     2. <a href=\"https://www.azlyrics.com/lyrics/jandean/yellowballoon.html\" target=\"_blank\"><b>Yellow Balloon</b></a>  by <b>Jan &amp; Dean</b><br/>\n",
       " <small>tle brighter Like a <strong>Yellow</strong> Balloon On a rainy afternoon And love's a <strong>Yellow</strong> Balloon (Ba...) It's like the <strong>Yellow</strong> Balloon On a rainy afternoon And love's a <strong>Yellow</strong> Balloon Love's a <strong>Yellow</strong> Balloon It's like the <strong>Yellow</strong> Balloon And love's a <strong>Yellow</strong> Balloon...</small>\n",
       " </td>, <td class=\"text-left visitedlyr\">\n",
       "                     3. <a href=\"https://www.azlyrics.com/lyrics/beatles/yellowsubmarine.html\" target=\"_blank\"><b>Yellow Submarine</b></a>  by <b>The Beatles</b><br/>\n",
       " <small>reen (sea of green) In our <strong>yellow</strong> (in our <strong>yellow</strong>) submarine (submarine, ah-ha) We all live in a <strong>yellow</strong> submarine <strong>Yellow</strong> submarine, <strong>yellow</strong> submarine We all live in a <strong>yellow</strong> submarine <strong>Yellow</strong> submarine, <strong>yellow</strong> submarine We all live in a <strong>yellow</strong> submarine <strong>Yellow</strong> submarine, <strong>yellow</strong> submarine We al...</small>\n",
       " </td>, <td class=\"text-left visitedlyr\">\n",
       "                     4. <a href=\"https://www.azlyrics.com/lyrics/wizkhalifa/blackandyellow.html\" target=\"_blank\"><b>Black And Yellow</b></a>  by <b>Wiz Khalifa</b><br/>\n",
       " <small>when you see me you know everything Black and <strong>yellow</strong>, black and <strong>yellow</strong> Black and <strong>yellow</strong>, black and <strong>yellow</strong> I put it down from the whip to my diamonds, I'm in Black and <strong>yellow</strong>, black and <strong>yellow</strong> Black and <strong>yellow</strong>, black and <strong>yellow</strong> Uh, black stripe, yello...</small>\n",
       " </td>, <td class=\"text-left visitedlyr\">\n",
       "                     5. <a href=\"https://www.azlyrics.com/lyrics/wizkhalifa/blackandyellowgmix.html\" target=\"_blank\"><b>Black And Yellow (G-Mix)</b></a>  by <b>Wiz Khalifa</b><br/>\n",
       " <small>he lot, that's stunting Repping my town when you see me you know everything Black and <strong>yellow</strong>, black and <strong>yellow</strong>, black and <strong>yellow</strong>, black and <strong>yellow</strong> I put it down from the whip to my diamonds, I'm in Black and <strong>yellow</strong>, black and <strong>yellow</strong>, black and <strong>yellow</strong>,...</small>\n",
       " </td>]"
      ]
     },
     "execution_count": 59,
     "metadata": {},
     "output_type": "execute_result"
    }
   ],
   "source": [
    "search_results"
   ]
  },
  {
   "cell_type": "code",
   "execution_count": null,
   "metadata": {},
   "outputs": [],
   "source": [
    "# Take the first result from the search as the url with the lyrics on it\n",
    "lyrics_url = search_results[0].a.get(\"href\")\n",
    "lyrics_page = rq.get(lyrics_url)"
   ]
  },
  {
   "cell_type": "code",
   "execution_count": 49,
   "metadata": {
    "ExecuteTime": {
     "end_time": "2019-10-03T19:59:17.063776Z",
     "start_time": "2019-10-03T19:59:17.048417Z"
    }
   },
   "outputs": [],
   "source": [
    "# soup = bs(lyrics_page.text, \"lxml\")\n",
    "soup_2 = bs(lyrics_page.text, \"lxml\")\n",
    "\n",
    "# Find the lyrics\n",
    "lyrics = soup_2.find(\"div\", {\"class\": \"col-xs-12 col-lg-8 text-center\"}).find_all(\"div\")[6].get_text()"
   ]
  },
  {
   "cell_type": "code",
   "execution_count": 50,
   "metadata": {
    "ExecuteTime": {
     "end_time": "2019-10-03T19:59:17.441580Z",
     "start_time": "2019-10-03T19:59:17.438372Z"
    }
   },
   "outputs": [
    {
     "name": "stdout",
     "output_type": "stream",
     "text": [
      "[Mr. Hudson:]\n",
      "Twisted silent\n",
      "Please decipher\n",
      "We can still try\n",
      "We're too young to die\n",
      "\n",
      "So much for the fail safe\n",
      "Wrong way down the runway\n",
      "This scene's playing over\n",
      "I can't think when I'm sober\n",
      "I hear what you don't say\n",
      "My heart beats like a freight train\n",
      "This place doesn't feel the same\n",
      "Is this the part where I walk away?\n",
      "\n",
      "Twisted silent, please decipher\n",
      "We can still try, too young to die\n",
      "\n",
      "Shoelaces tied, taxis outside\n",
      "We can still try, we're too young to die\n",
      "\n",
      "But long walk down the old street\n",
      "The [?] are all down on the concrete\n",
      "But me, I need something stronger\n",
      "I guess I thought that I'd be stronger\n",
      "Wet hair on a cold day\n",
      "The kind of day you play Coldplay\n",
      "I don't even like Coldplay\n",
      "But today I need Coldplay\n",
      "\n",
      "Twisted silent, please decipher\n",
      "We can still try, too young to die\n",
      "\n",
      "Shoelaces tied, taxis outside\n",
      "We can still try, we're too young to die\n",
      "\n",
      "[Vic Mensa:]\n",
      "I left you in tears at the airport\n",
      "Crying inside but I ain't make a sound\n",
      "It's ironic, not even tears could say could save us now\n",
      "She's breaking down\n",
      "We're breaking up, my Lady Luck, my favorite love\n",
      "I think Because I can't give up, the way it was\n",
      "It really hurts us more than things that we don't say\n",
      "I see your face in yellow every time I hear Coldplay\n",
      "And you placed on the pillowcase where you don't lay\n",
      "In a bouquet of roses I left in your suitcase\n",
      "Before I screwed it up and made you screwed face\n",
      "I think about you every time I hear sad songs\n",
      "On New York Radio in Yellow sexy chat songs\n",
      "My mama told me many glass homes should be passed on\n",
      "I left you by your own, now I'm grown and I don't wanna die alone\n",
      "The twisted silence, relationships and violence\n",
      "Shit was childish, I lost my queen, pop and ace of spades, king of diamonds\n",
      "Just be honest, you was always fixing me\n",
      "Now I don't know what else to do, but listen to \"Fix You\" on repeat\n",
      "I hate Coldplay\n",
      "\n",
      "[Mr. Hudson:]\n",
      "Heartless bottom moving on\n",
      "Cause we [?] (taxis outside)\n",
      "I know you gotta find someone that I don't wanna know\n",
      "Your heartless bottom moving on\n",
      "Cause we [?] (taxis outside)\n",
      "I know you gotta find someone that I don't wanna know\n",
      "No, no, no\n"
     ]
    }
   ],
   "source": [
    "# Make a list with every line of the lyrics as a element and remove the first 2 because are html notes\n",
    "lines = lyrics.splitlines()[2:]\n",
    "processed_lyrics = \"\\n\".join(lines)\n",
    "print(processed_lyrics)"
   ]
  },
  {
   "cell_type": "code",
   "execution_count": null,
   "metadata": {},
   "outputs": [],
   "source": []
  }
 ],
 "metadata": {
  "kernelspec": {
   "display_name": "clustering-nse",
   "language": "python",
   "name": "clustering-nse"
  },
  "language_info": {
   "codemirror_mode": {
    "name": "ipython",
    "version": 3
   },
   "file_extension": ".py",
   "mimetype": "text/x-python",
   "name": "python",
   "nbconvert_exporter": "python",
   "pygments_lexer": "ipython3",
   "version": "3.6.7"
  },
  "toc": {
   "base_numbering": 1,
   "nav_menu": {},
   "number_sections": true,
   "sideBar": true,
   "skip_h1_title": true,
   "title_cell": "Table of Contents",
   "title_sidebar": "Contents",
   "toc_cell": false,
   "toc_position": {},
   "toc_section_display": true,
   "toc_window_display": true
  }
 },
 "nbformat": 4,
 "nbformat_minor": 2
}
